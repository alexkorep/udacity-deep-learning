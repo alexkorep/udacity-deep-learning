{
 "cells": [
  {
   "cell_type": "code",
   "execution_count": 21,
   "metadata": {},
   "outputs": [],
   "source": [
    "import numpy\n",
    "\n",
    "\n",
    "def softmax1d(input):\n",
    "    input = input.tolist()\n",
    "    total = sum(input)\n",
    "    if not total:\n",
    "        # zero array\n",
    "        return input\n",
    "\n",
    "    result = []\n",
    "    for val in input:\n",
    "        result.append(float(val) / float(total))\n",
    "\n",
    "    return numpy.array(result)\n",
    "\n",
    "\n",
    "def softmax2d(input):\n",
    "    intermed = numpy.transpose(input)\n",
    "    result = []\n",
    "    for val in intermed:\n",
    "        row = softmax1d(val)\n",
    "        result.append(row)\n",
    "\n",
    "    result = numpy.transpose(result)\n",
    "    return result\n",
    "\n",
    "\n",
    "def softmax(input):\n",
    "    if not len(input):\n",
    "        return input\n",
    "\n",
    "    if not isinstance(input[0], (int, long, float, complex)):\n",
    "        return softmax2d(input)\n",
    "\n",
    "    return softmax1d(input)"
   ]
  },
  {
   "cell_type": "code",
   "execution_count": 22,
   "metadata": {
    "collapsed": true
   },
   "outputs": [],
   "source": [
    "scores = numpy.array([1.0, 2.0, 3.0])"
   ]
  },
  {
   "cell_type": "code",
   "execution_count": 23,
   "metadata": {},
   "outputs": [
    {
     "name": "stdout",
     "output_type": "stream",
     "text": [
      "[ 0.16666667  0.33333333  0.5       ]\n"
     ]
    }
   ],
   "source": [
    "print softmax(scores)"
   ]
  },
  {
   "cell_type": "code",
   "execution_count": 26,
   "metadata": {},
   "outputs": [],
   "source": [
    "scores = numpy.array([[1, 2, 3, 6],\n",
    "                   [2, 4, 5, 6],\n",
    "                   [3, 8, 7, 6]])"
   ]
  },
  {
   "cell_type": "code",
   "execution_count": 27,
   "metadata": {},
   "outputs": [
    {
     "name": "stdout",
     "output_type": "stream",
     "text": [
      "[[ 0.16666667  0.14285714  0.2         0.33333333]\n",
      " [ 0.33333333  0.28571429  0.33333333  0.33333333]\n",
      " [ 0.5         0.57142857  0.46666667  0.33333333]]\n"
     ]
    }
   ],
   "source": [
    "print softmax(scores)"
   ]
  },
  {
   "cell_type": "code",
   "execution_count": 29,
   "metadata": {},
   "outputs": [
    {
     "data": {
      "text/plain": [
       "1.0"
      ]
     },
     "execution_count": 29,
     "metadata": {},
     "output_type": "execute_result"
    }
   ],
   "source": [
    "0.09003057+0.24472847+0.66524096"
   ]
  },
  {
   "cell_type": "code",
   "execution_count": null,
   "metadata": {
    "collapsed": true
   },
   "outputs": [],
   "source": []
  }
 ],
 "metadata": {
  "kernelspec": {
   "display_name": "Python 2",
   "language": "python",
   "name": "python2"
  },
  "language_info": {
   "codemirror_mode": {
    "name": "ipython",
    "version": 2
   },
   "file_extension": ".py",
   "mimetype": "text/x-python",
   "name": "python",
   "nbconvert_exporter": "python",
   "pygments_lexer": "ipython2",
   "version": "2.7.12"
  }
 },
 "nbformat": 4,
 "nbformat_minor": 2
}
